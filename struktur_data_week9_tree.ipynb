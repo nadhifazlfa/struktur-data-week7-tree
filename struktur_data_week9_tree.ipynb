{
  "nbformat": 4,
  "nbformat_minor": 0,
  "metadata": {
    "colab": {
      "provenance": []
    },
    "kernelspec": {
      "name": "python3",
      "display_name": "Python 3"
    },
    "language_info": {
      "name": "python"
    }
  },
  "cells": [
    {
      "cell_type": "code",
      "execution_count": null,
      "metadata": {
        "colab": {
          "base_uri": "https://localhost:8080/"
        },
        "id": "ioDphhOEmsH7",
        "outputId": "e702a566-39c0-4920-fd53-a352a916bf40"
      },
      "outputs": [
        {
          "output_type": "stream",
          "name": "stdout",
          "text": [
            "Hasil inorder traversal dari binary tree:\n",
            "42513"
          ]
        }
      ],
      "source": [
        "class Node:\n",
        "    def __init__(self, data):\n",
        "        self.data = data\n",
        "        self.left = None\n",
        "        self.right = None\n",
        "\n",
        "# Membuat tree secara manual\n",
        "root = Node(1)\n",
        "root.left = Node(2)\n",
        "root.right= Node(3)\n",
        "root.left.left = Node(4)\n",
        "root.left.right = Node(5)\n",
        "\n",
        "# Fungsi inorder traversal\n",
        "def inorder(node):\n",
        "    if node:\n",
        "        inorder (node.left)\n",
        "        print(node.data, end='')\n",
        "        inorder(node.right)\n",
        "\n",
        "print(\"Hasil inorder traversal dari binary tree:\")\n",
        "inorder(root)"
      ]
    },
    {
      "cell_type": "code",
      "source": [
        "class Node:\n",
        "    def __init__(self, data):\n",
        "        self.data = data\n",
        "        self.left = None\n",
        "        self.right = None\n",
        "\n",
        "class BinarySearchTree:\n",
        "    def __init__(self):\n",
        "        self.root = None\n",
        "    def insert(self, root, data):\n",
        "        if root is None:\n",
        "            return Node(data)\n",
        "        if data < root.data:\n",
        "            root.left = self.insert(root.left, data)\n",
        "        else:\n",
        "            root.right = self.insert(root.right, data)\n",
        "        return root\n",
        "\n",
        "bst = BinarySearchTree()\n",
        "root = None\n",
        "data_list = [50, 30, 20, 40, 60, 80]\n",
        "for value in data_list:\n",
        "    root = bst.insert(root, value)\n",
        "\n"
      ],
      "metadata": {
        "id": "kJUiv4-rrivi"
      },
      "execution_count": null,
      "outputs": []
    },
    {
      "cell_type": "code",
      "source": [
        "def inorder(node):\n",
        "    if node:\n",
        "        inorder(node.left)\n",
        "        print(node.data, end='')\n",
        "        inorder(node.right)\n",
        "\n",
        "def preorder(node):\n",
        "    if node:\n",
        "        print(node.data, end='')\n",
        "        preorder(node.left)\n",
        "        preorder(node.right)\n",
        "\n",
        "def postorder(node):\n",
        "    if node:\n",
        "        postorder(node.left)\n",
        "        postorder(node.right)\n",
        "        print(node.data, end='')\n",
        "\n",
        "print(\"Inorder Traversal:\")\n",
        "inorder(root)\n",
        "print(\"\\nPreorder Traversal:\")\n",
        "preorder(root)\n",
        "print(\"\\nPostorder Traversal:\")\n",
        "postorder(root)\n"
      ],
      "metadata": {
        "colab": {
          "base_uri": "https://localhost:8080/"
        },
        "id": "MwZuhR6Yw82V",
        "outputId": "e7cf4f45-9095-433f-e366-c5baea685cd7"
      },
      "execution_count": null,
      "outputs": [
        {
          "output_type": "stream",
          "name": "stdout",
          "text": [
            "Inorder Traversal:\n",
            "203050\n",
            "Preorder Traversal:\n",
            "503020\n",
            "Postorder Traversal:\n",
            "203050"
          ]
        }
      ]
    },
    {
      "cell_type": "code",
      "source": [
        "def search(node, key):\n",
        "    if node is None or node.data == key:\n",
        "        return node\n",
        "    if key < node.data:\n",
        "        return search(node.left, key)\n",
        "    return search(node.right, key)\n",
        "\n",
        "# Uji Pencarian\n",
        "key = 60\n",
        "result = search(root, key)\n",
        "if result:\n",
        "    print(f\"{key} ditemukan dalam tree.\")\n",
        "else:\n",
        "    print(f\"{key} tidak ditemukan.\")\n",
        "\n",
        "key = 25\n",
        "result = search(root, key)\n",
        "if result:\n",
        "    print(f\"{key} tidak ditemukan dalam tree.\")\n",
        "else:\n",
        "  print(f\"{key} tidak ditemukan\")"
      ],
      "metadata": {
        "colab": {
          "base_uri": "https://localhost:8080/"
        },
        "id": "togwx_ejyRNf",
        "outputId": "df056e0f-9482-4522-876d-8a0e0283a54e"
      },
      "execution_count": null,
      "outputs": [
        {
          "output_type": "stream",
          "name": "stdout",
          "text": [
            "60 tidak ditemukan.\n",
            "25 tidak ditemukan\n"
          ]
        }
      ]
    }
  ]
}